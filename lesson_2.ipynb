{
 "cells": [
  {
   "cell_type": "markdown",
   "id": "f6a4995c",
   "metadata": {},
   "source": [
    "# Lesson 2"
   ]
  },
  {
   "cell_type": "code",
   "execution_count": 42,
   "id": "e21c866e",
   "metadata": {},
   "outputs": [
    {
     "name": "stdout",
     "output_type": "stream",
     "text": [
      "Введите название вакансии: python\n"
     ]
    }
   ],
   "source": [
    "# https://voronezh.hh.ru/search/vacancy?text=Python&area=26&salary=&currency_code=RUR&experience=doesNotMatter&order_by=publication_time&search_period=0&items_on_page=20&no_magic=true&L_save_area=true&page=1\n",
    "\n",
    "import requests\n",
    "from bs4 import BeautifulSoup as bs\n",
    "from pprint import pprint\n",
    "\n",
    "url = 'https://hh.ru/'\n",
    "\n",
    "vacancy = input('Введите название вакансии: ')\n",
    "\n",
    "params = {'text': vacancy,\n",
    "          'area': 26,\n",
    "          'clusters': 'true',\n",
    "          'enable_snippets': 'true',\n",
    "          'ored_clusters': 'true',\n",
    "          'experience': 'doesNotMatter',\n",
    "          'order_by': 'publication_time',\n",
    "          'search_period': 0,\n",
    "          'items_on_page': 20,\n",
    "          'no_magic': 'true',\n",
    "          'L_save_area': 'true',\n",
    "          'page': 0}\n",
    "\n",
    "headers = {'User-Agent': 'Mozilla/5.0 (Windows NT 6.1; WOW64) AppleWebKit/537.36 (KHTML, like Gecko)' \\\n",
    "           'Chrome/81.0.4044.96 YaBrowser/20.4.0.1458 Yowser/2.5 Safari/537.36'}\n"
   ]
  },
  {
   "cell_type": "code",
   "execution_count": 43,
   "id": "44c05731",
   "metadata": {},
   "outputs": [],
   "source": [
    "vacancy_list = []"
   ]
  },
  {
   "cell_type": "code",
   "execution_count": 44,
   "id": "eb27192f",
   "metadata": {},
   "outputs": [
    {
     "name": "stdout",
     "output_type": "stream",
     "text": [
      "Обработана страница № 0\n",
      "Обработана страница № 1\n",
      "Обработана страница № 2\n",
      "Обработана страница № 3\n",
      "Обработана страница № 4\n",
      "Обработана страница № 5\n",
      "Обработана страница № 6\n",
      "Обработана страница № 7\n"
     ]
    }
   ],
   "source": [
    "while True:\n",
    "    response = requests.get(url + 'search/vacancy', params=params, headers=headers)\n",
    "    dom = bs(response.content, 'html.parser')\n",
    "    vacancies = dom.find_all('div', {'class': \"vacancy-serp-item\"})\n",
    "    \n",
    "    if response.ok and vacancies:\n",
    "        for vacancy in vacancies:\n",
    "            vacancy_data = {}\n",
    "            name = vacancy.find('a', {'data-qa': \"vacancy-serp__vacancy-title\"}).text\n",
    "            link = vacancy.find('a', {'data-qa': \"vacancy-serp__vacancy-title\"})['href']\n",
    "            try:\n",
    "                salary = vacancy.find('span', {'data-qa': 'vacancy-serp__vacancy-compensation'}).text\n",
    "                \n",
    "                currency = salary.split()[::-1][0]  # зп валюта\n",
    "                if salary.split()[0] == 'от':\n",
    "                    salary_min = int(''.join(salary.split()[1:-1])) # если \"от\"\n",
    "                elif salary.split()[0] == 'до':\n",
    "                    salary_max = int(''.join(salary.split()[1:-1])) # если \"до\"\n",
    "                else:\n",
    "                    salary_min = salary[:(salary.find(' – '))]\n",
    "                    salary_max = ''.join(salary[((salary.rfind(' – ') + 3)):(salary.rfind(' '))])\n",
    "                    salary_min = int(''.join(salary_min.split()))  # минимальная зп\n",
    "                    salary_max =int(''.join(salary_max.split()))   # максимальная зп\n",
    "            except:\n",
    "                salary_min = None\n",
    "                salary_max = None\n",
    "                currency = None\n",
    "\n",
    "            vacancy_data['name'] = name                      # наименование должности\n",
    "            vacancy_data['link'] = link                      # ссылка на вакансию\n",
    "            vacancy_data['salary_min'] = salary_min          # минимальная зп\n",
    "            vacancy_data['salary_max'] = salary_max          # максимальная зп\n",
    "            vacancy_data['currency'] = currency              # валюта\n",
    "            vacancy_data['site'] = 'hh.ru'                   # не совсем понял, что нужно в этом пункте\n",
    "            vacancy_list.append(vacancy_data)\n",
    "        print(f'Обработана страница № {params[\"page\"]}')\n",
    "        params['page'] += 1\n",
    "    else:\n",
    "        break"
   ]
  },
  {
   "cell_type": "code",
   "execution_count": 52,
   "id": "267199d9",
   "metadata": {},
   "outputs": [
    {
     "data": {
      "text/plain": [
       "153"
      ]
     },
     "execution_count": 52,
     "metadata": {},
     "output_type": "execute_result"
    }
   ],
   "source": [
    "len(vacancy_list)"
   ]
  },
  {
   "cell_type": "code",
   "execution_count": 61,
   "id": "27c88830",
   "metadata": {},
   "outputs": [],
   "source": [
    "import pandas as pd\n",
    "\n",
    "df = pd.DataFrame(vacancy_list)\n",
    "\n",
    "df.to_csv('data.csv')"
   ]
  },
  {
   "cell_type": "code",
   "execution_count": 62,
   "id": "d9722b02",
   "metadata": {},
   "outputs": [
    {
     "data": {
      "text/html": [
       "<div>\n",
       "<style scoped>\n",
       "    .dataframe tbody tr th:only-of-type {\n",
       "        vertical-align: middle;\n",
       "    }\n",
       "\n",
       "    .dataframe tbody tr th {\n",
       "        vertical-align: top;\n",
       "    }\n",
       "\n",
       "    .dataframe thead th {\n",
       "        text-align: right;\n",
       "    }\n",
       "</style>\n",
       "<table border=\"1\" class=\"dataframe\">\n",
       "  <thead>\n",
       "    <tr style=\"text-align: right;\">\n",
       "      <th></th>\n",
       "      <th>name</th>\n",
       "      <th>link</th>\n",
       "      <th>salary_min</th>\n",
       "      <th>salary_max</th>\n",
       "      <th>currency</th>\n",
       "      <th>site</th>\n",
       "    </tr>\n",
       "  </thead>\n",
       "  <tbody>\n",
       "    <tr>\n",
       "      <th>108</th>\n",
       "      <td>Big Data Engineer</td>\n",
       "      <td>https://voronezh.hh.ru/vacancy/46373964?from=v...</td>\n",
       "      <td>NaN</td>\n",
       "      <td>NaN</td>\n",
       "      <td>None</td>\n",
       "      <td>hh.ru</td>\n",
       "    </tr>\n",
       "    <tr>\n",
       "      <th>66</th>\n",
       "      <td>С/C++ Developer (System/Embedded)</td>\n",
       "      <td>https://voronezh.hh.ru/vacancy/48543020?from=v...</td>\n",
       "      <td>NaN</td>\n",
       "      <td>NaN</td>\n",
       "      <td>None</td>\n",
       "      <td>hh.ru</td>\n",
       "    </tr>\n",
       "  </tbody>\n",
       "</table>\n",
       "</div>"
      ],
      "text/plain": [
       "                                  name  \\\n",
       "108                  Big Data Engineer   \n",
       "66   С/C++ Developer (System/Embedded)   \n",
       "\n",
       "                                                  link  salary_min  \\\n",
       "108  https://voronezh.hh.ru/vacancy/46373964?from=v...         NaN   \n",
       "66   https://voronezh.hh.ru/vacancy/48543020?from=v...         NaN   \n",
       "\n",
       "     salary_max currency   site  \n",
       "108         NaN     None  hh.ru  \n",
       "66          NaN     None  hh.ru  "
      ]
     },
     "execution_count": 62,
     "metadata": {},
     "output_type": "execute_result"
    }
   ],
   "source": [
    "df.sample(2)"
   ]
  },
  {
   "cell_type": "code",
   "execution_count": 63,
   "id": "5630e5ab",
   "metadata": {},
   "outputs": [],
   "source": [
    "data = pd.read_csv('data.csv')"
   ]
  },
  {
   "cell_type": "code",
   "execution_count": 65,
   "id": "e42dc38d",
   "metadata": {},
   "outputs": [
    {
     "data": {
      "text/html": [
       "<div>\n",
       "<style scoped>\n",
       "    .dataframe tbody tr th:only-of-type {\n",
       "        vertical-align: middle;\n",
       "    }\n",
       "\n",
       "    .dataframe tbody tr th {\n",
       "        vertical-align: top;\n",
       "    }\n",
       "\n",
       "    .dataframe thead th {\n",
       "        text-align: right;\n",
       "    }\n",
       "</style>\n",
       "<table border=\"1\" class=\"dataframe\">\n",
       "  <thead>\n",
       "    <tr style=\"text-align: right;\">\n",
       "      <th></th>\n",
       "      <th>Unnamed: 0</th>\n",
       "      <th>name</th>\n",
       "      <th>link</th>\n",
       "      <th>salary_min</th>\n",
       "      <th>salary_max</th>\n",
       "      <th>currency</th>\n",
       "      <th>site</th>\n",
       "    </tr>\n",
       "  </thead>\n",
       "  <tbody>\n",
       "    <tr>\n",
       "      <th>0</th>\n",
       "      <td>0</td>\n",
       "      <td>Java Developer (SBB)</td>\n",
       "      <td>https://voronezh.hh.ru/vacancy/49070236?from=v...</td>\n",
       "      <td>NaN</td>\n",
       "      <td>NaN</td>\n",
       "      <td>NaN</td>\n",
       "      <td>hh.ru</td>\n",
       "    </tr>\n",
       "    <tr>\n",
       "      <th>1</th>\n",
       "      <td>1</td>\n",
       "      <td>Ведущий AI/ML инженер</td>\n",
       "      <td>https://voronezh.hh.ru/vacancy/48677314?from=v...</td>\n",
       "      <td>NaN</td>\n",
       "      <td>NaN</td>\n",
       "      <td>NaN</td>\n",
       "      <td>hh.ru</td>\n",
       "    </tr>\n",
       "    <tr>\n",
       "      <th>2</th>\n",
       "      <td>2</td>\n",
       "      <td>Преподаватель кружка программирования для детей</td>\n",
       "      <td>https://voronezh.hh.ru/vacancy/49112910?from=v...</td>\n",
       "      <td>20000.0</td>\n",
       "      <td>30000.0</td>\n",
       "      <td>руб.</td>\n",
       "      <td>hh.ru</td>\n",
       "    </tr>\n",
       "    <tr>\n",
       "      <th>3</th>\n",
       "      <td>3</td>\n",
       "      <td>Web-разработчик/стажер</td>\n",
       "      <td>https://voronezh.hh.ru/vacancy/48997579?from=v...</td>\n",
       "      <td>500.0</td>\n",
       "      <td>1500.0</td>\n",
       "      <td>USD</td>\n",
       "      <td>hh.ru</td>\n",
       "    </tr>\n",
       "    <tr>\n",
       "      <th>4</th>\n",
       "      <td>4</td>\n",
       "      <td>Data engineer</td>\n",
       "      <td>https://voronezh.hh.ru/vacancy/48793228?from=v...</td>\n",
       "      <td>NaN</td>\n",
       "      <td>NaN</td>\n",
       "      <td>NaN</td>\n",
       "      <td>hh.ru</td>\n",
       "    </tr>\n",
       "  </tbody>\n",
       "</table>\n",
       "</div>"
      ],
      "text/plain": [
       "   Unnamed: 0                                             name  \\\n",
       "0           0                             Java Developer (SBB)   \n",
       "1           1                            Ведущий AI/ML инженер   \n",
       "2           2  Преподаватель кружка программирования для детей   \n",
       "3           3                           Web-разработчик/стажер   \n",
       "4           4                                    Data engineer   \n",
       "\n",
       "                                                link  salary_min  salary_max  \\\n",
       "0  https://voronezh.hh.ru/vacancy/49070236?from=v...         NaN         NaN   \n",
       "1  https://voronezh.hh.ru/vacancy/48677314?from=v...         NaN         NaN   \n",
       "2  https://voronezh.hh.ru/vacancy/49112910?from=v...     20000.0     30000.0   \n",
       "3  https://voronezh.hh.ru/vacancy/48997579?from=v...       500.0      1500.0   \n",
       "4  https://voronezh.hh.ru/vacancy/48793228?from=v...         NaN         NaN   \n",
       "\n",
       "  currency   site  \n",
       "0      NaN  hh.ru  \n",
       "1      NaN  hh.ru  \n",
       "2     руб.  hh.ru  \n",
       "3      USD  hh.ru  \n",
       "4      NaN  hh.ru  "
      ]
     },
     "execution_count": 65,
     "metadata": {},
     "output_type": "execute_result"
    }
   ],
   "source": [
    "data.head()"
   ]
  },
  {
   "cell_type": "code",
   "execution_count": null,
   "id": "1a8143fa",
   "metadata": {},
   "outputs": [],
   "source": []
  }
 ],
 "metadata": {
  "kernelspec": {
   "display_name": "Python 3 (ipykernel)",
   "language": "python",
   "name": "python3"
  },
  "language_info": {
   "codemirror_mode": {
    "name": "ipython",
    "version": 3
   },
   "file_extension": ".py",
   "mimetype": "text/x-python",
   "name": "python",
   "nbconvert_exporter": "python",
   "pygments_lexer": "ipython3",
   "version": "3.8.10"
  }
 },
 "nbformat": 4,
 "nbformat_minor": 5
}
