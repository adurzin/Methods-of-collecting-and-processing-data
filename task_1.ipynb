{
 "cells": [
  {
   "cell_type": "markdown",
   "id": "8e46573e",
   "metadata": {},
   "source": [
    "# Task 1"
   ]
  },
  {
   "cell_type": "code",
   "execution_count": 38,
   "id": "2fcf3fe0",
   "metadata": {},
   "outputs": [],
   "source": [
    "import requests\n",
    "from pprint import pprint"
   ]
  },
  {
   "cell_type": "code",
   "execution_count": 39,
   "id": "fc7e5146",
   "metadata": {},
   "outputs": [],
   "source": [
    "username = 'adurzin'"
   ]
  },
  {
   "cell_type": "code",
   "execution_count": 40,
   "id": "047e8dc9",
   "metadata": {},
   "outputs": [],
   "source": [
    "url = f'https://api.github.com/users/{username}/repos'"
   ]
  },
  {
   "cell_type": "code",
   "execution_count": 49,
   "id": "b5259c30",
   "metadata": {},
   "outputs": [],
   "source": [
    "repos = requests.get(url)"
   ]
  },
  {
   "cell_type": "code",
   "execution_count": 56,
   "id": "cf2ccaaa",
   "metadata": {
    "scrolled": false
   },
   "outputs": [
    {
     "name": "stdout",
     "output_type": "stream",
     "text": [
      "{'allow_forking': True,\n",
      " 'archive_url': 'https://api.github.com/repos/adurzin/Championat/{archive_format}{/ref}',\n",
      " 'archived': False,\n",
      " 'assignees_url': 'https://api.github.com/repos/adurzin/Championat/assignees{/user}',\n",
      " 'blobs_url': 'https://api.github.com/repos/adurzin/Championat/git/blobs{/sha}',\n",
      " 'branches_url': 'https://api.github.com/repos/adurzin/Championat/branches{/branch}',\n",
      " 'clone_url': 'https://github.com/adurzin/Championat.git',\n",
      " 'collaborators_url': 'https://api.github.com/repos/adurzin/Championat/collaborators{/collaborator}',\n",
      " 'comments_url': 'https://api.github.com/repos/adurzin/Championat/comments{/number}',\n",
      " 'commits_url': 'https://api.github.com/repos/adurzin/Championat/commits{/sha}',\n",
      " 'compare_url': 'https://api.github.com/repos/adurzin/Championat/compare/{base}...{head}',\n",
      " 'contents_url': 'https://api.github.com/repos/adurzin/Championat/contents/{+path}',\n",
      " 'contributors_url': 'https://api.github.com/repos/adurzin/Championat/contributors',\n",
      " 'created_at': '2021-07-24T18:37:31Z',\n",
      " 'default_branch': 'main',\n",
      " 'deployments_url': 'https://api.github.com/repos/adurzin/Championat/deployments',\n",
      " 'description': None,\n",
      " 'disabled': False,\n",
      " 'downloads_url': 'https://api.github.com/repos/adurzin/Championat/downloads',\n",
      " 'events_url': 'https://api.github.com/repos/adurzin/Championat/events',\n",
      " 'fork': False,\n",
      " 'forks': 0,\n",
      " 'forks_count': 0,\n",
      " 'forks_url': 'https://api.github.com/repos/adurzin/Championat/forks',\n",
      " 'full_name': 'adurzin/Championat',\n",
      " 'git_commits_url': 'https://api.github.com/repos/adurzin/Championat/git/commits{/sha}',\n",
      " 'git_refs_url': 'https://api.github.com/repos/adurzin/Championat/git/refs{/sha}',\n",
      " 'git_tags_url': 'https://api.github.com/repos/adurzin/Championat/git/tags{/sha}',\n",
      " 'git_url': 'git://github.com/adurzin/Championat.git',\n",
      " 'has_downloads': True,\n",
      " 'has_issues': True,\n",
      " 'has_pages': False,\n",
      " 'has_projects': True,\n",
      " 'has_wiki': True,\n",
      " 'homepage': None,\n",
      " 'hooks_url': 'https://api.github.com/repos/adurzin/Championat/hooks',\n",
      " 'html_url': 'https://github.com/adurzin/Championat',\n",
      " 'id': 389174366,\n",
      " 'is_template': False,\n",
      " 'issue_comment_url': 'https://api.github.com/repos/adurzin/Championat/issues/comments{/number}',\n",
      " 'issue_events_url': 'https://api.github.com/repos/adurzin/Championat/issues/events{/number}',\n",
      " 'issues_url': 'https://api.github.com/repos/adurzin/Championat/issues{/number}',\n",
      " 'keys_url': 'https://api.github.com/repos/adurzin/Championat/keys{/key_id}',\n",
      " 'labels_url': 'https://api.github.com/repos/adurzin/Championat/labels{/name}',\n",
      " 'language': None,\n",
      " 'languages_url': 'https://api.github.com/repos/adurzin/Championat/languages',\n",
      " 'license': None,\n",
      " 'merges_url': 'https://api.github.com/repos/adurzin/Championat/merges',\n",
      " 'milestones_url': 'https://api.github.com/repos/adurzin/Championat/milestones{/number}',\n",
      " 'mirror_url': None,\n",
      " 'name': 'Championat',\n",
      " 'node_id': 'MDEwOlJlcG9zaXRvcnkzODkxNzQzNjY=',\n",
      " 'notifications_url': 'https://api.github.com/repos/adurzin/Championat/notifications{?since,all,participating}',\n",
      " 'open_issues': 0,\n",
      " 'open_issues_count': 0,\n",
      " 'owner': {'avatar_url': 'https://avatars.githubusercontent.com/u/69717780?v=4',\n",
      "           'events_url': 'https://api.github.com/users/adurzin/events{/privacy}',\n",
      "           'followers_url': 'https://api.github.com/users/adurzin/followers',\n",
      "           'following_url': 'https://api.github.com/users/adurzin/following{/other_user}',\n",
      "           'gists_url': 'https://api.github.com/users/adurzin/gists{/gist_id}',\n",
      "           'gravatar_id': '',\n",
      "           'html_url': 'https://github.com/adurzin',\n",
      "           'id': 69717780,\n",
      "           'login': 'adurzin',\n",
      "           'node_id': 'MDQ6VXNlcjY5NzE3Nzgw',\n",
      "           'organizations_url': 'https://api.github.com/users/adurzin/orgs',\n",
      "           'received_events_url': 'https://api.github.com/users/adurzin/received_events',\n",
      "           'repos_url': 'https://api.github.com/users/adurzin/repos',\n",
      "           'site_admin': False,\n",
      "           'starred_url': 'https://api.github.com/users/adurzin/starred{/owner}{/repo}',\n",
      "           'subscriptions_url': 'https://api.github.com/users/adurzin/subscriptions',\n",
      "           'type': 'User',\n",
      "           'url': 'https://api.github.com/users/adurzin'},\n",
      " 'private': False,\n",
      " 'pulls_url': 'https://api.github.com/repos/adurzin/Championat/pulls{/number}',\n",
      " 'pushed_at': '2021-07-30T20:01:17Z',\n",
      " 'releases_url': 'https://api.github.com/repos/adurzin/Championat/releases{/id}',\n",
      " 'size': 627,\n",
      " 'ssh_url': 'git@github.com:adurzin/Championat.git',\n",
      " 'stargazers_count': 0,\n",
      " 'stargazers_url': 'https://api.github.com/repos/adurzin/Championat/stargazers',\n",
      " 'statuses_url': 'https://api.github.com/repos/adurzin/Championat/statuses/{sha}',\n",
      " 'subscribers_url': 'https://api.github.com/repos/adurzin/Championat/subscribers',\n",
      " 'subscription_url': 'https://api.github.com/repos/adurzin/Championat/subscription',\n",
      " 'svn_url': 'https://github.com/adurzin/Championat',\n",
      " 'tags_url': 'https://api.github.com/repos/adurzin/Championat/tags',\n",
      " 'teams_url': 'https://api.github.com/repos/adurzin/Championat/teams',\n",
      " 'topics': [],\n",
      " 'trees_url': 'https://api.github.com/repos/adurzin/Championat/git/trees{/sha}',\n",
      " 'updated_at': '2021-07-30T20:01:19Z',\n",
      " 'url': 'https://api.github.com/repos/adurzin/Championat',\n",
      " 'visibility': 'public',\n",
      " 'watchers': 0,\n",
      " 'watchers_count': 0}\n"
     ]
    }
   ],
   "source": [
    "pprint(repos.json()[1])"
   ]
  },
  {
   "cell_type": "code",
   "execution_count": 57,
   "id": "2e94e49a",
   "metadata": {},
   "outputs": [
    {
     "name": "stdout",
     "output_type": "stream",
     "text": [
      "https://github.com/adurzin/adurzin\n",
      "https://github.com/adurzin/Championat\n",
      "https://github.com/adurzin/data-science\n",
      "https://github.com/adurzin/data_science_cont\n",
      "https://github.com/adurzin/Homepage\n",
      "https://github.com/adurzin/Methods-of-collecting-and-processing-data\n",
      "https://github.com/adurzin/MySQL\n",
      "https://github.com/adurzin/python\n",
      "https://github.com/adurzin/README\n",
      "https://github.com/adurzin/Zoo\n"
     ]
    }
   ],
   "source": [
    "for repo in repos.json():\n",
    "    print(repo['html_url'])"
   ]
  },
  {
   "cell_type": "code",
   "execution_count": 69,
   "id": "0669843f",
   "metadata": {},
   "outputs": [],
   "source": [
    "with open('task_1_1.txt', 'w') as f:\n",
    "    for repo in repos.json():\n",
    "        f.write(f\"{repo['html_url']}\\n\")"
   ]
  }
 ],
 "metadata": {
  "kernelspec": {
   "display_name": "Python 3 (ipykernel)",
   "language": "python",
   "name": "python3"
  },
  "language_info": {
   "codemirror_mode": {
    "name": "ipython",
    "version": 3
   },
   "file_extension": ".py",
   "mimetype": "text/x-python",
   "name": "python",
   "nbconvert_exporter": "python",
   "pygments_lexer": "ipython3",
   "version": "3.9.2"
  }
 },
 "nbformat": 4,
 "nbformat_minor": 5
}
